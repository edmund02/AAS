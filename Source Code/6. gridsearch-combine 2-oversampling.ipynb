{
 "cells": [
  {
   "cell_type": "code",
   "execution_count": 1,
   "metadata": {},
   "outputs": [
    {
     "name": "stderr",
     "output_type": "stream",
     "text": [
      "C:\\Users\\Edmund\\Anaconda3\\lib\\site-packages\\sklearn\\model_selection\\_split.py:624: FutureWarning: You should specify a value for 'n_splits' instead of relying on the default value. The default value will change from 3 to 5 in version 0.22.\n",
      "  warnings.warn(NSPLIT_WARNING, FutureWarning)\n",
      "[Parallel(n_jobs=-1)]: Using backend LokyBackend with 4 concurrent workers.\n"
     ]
    },
    {
     "name": "stdout",
     "output_type": "stream",
     "text": [
      "Fitting 3 folds for each of 3 candidates, totalling 9 fits\n"
     ]
    },
    {
     "name": "stderr",
     "output_type": "stream",
     "text": [
      "[Parallel(n_jobs=-1)]: Done   4 out of   9 | elapsed:    4.8s remaining:    6.0s\n",
      "[Parallel(n_jobs=-1)]: Done   6 out of   9 | elapsed:    6.3s remaining:    3.1s\n",
      "[Parallel(n_jobs=-1)]: Done   9 out of   9 | elapsed:   14.2s finished\n"
     ]
    },
    {
     "name": "stdout",
     "output_type": "stream",
     "text": [
      "{'clf__C': 0.1, 'clf__kernel': 'linear'} 0.6484339536995006\n"
     ]
    }
   ],
   "source": [
    "from imblearn.over_sampling import SMOTE,RandomOverSampler  # or: import RandomOverSampler\n",
    "from imblearn.pipeline import Pipeline as imbPipeline\n",
    "from sklearn.preprocessing import StandardScaler\n",
    "from sklearn.svm import SVC\n",
    "from sklearn.metrics import accuracy_score\n",
    "from sklearn.model_selection import (GridSearchCV,\n",
    "                                     train_test_split,\n",
    "                                     StratifiedKFold)\n",
    "import numpy as np\n",
    "import pandas as pd\n",
    "\n",
    "dataset = pd.read_csv('essaywithfeaturec2.csv', encoding='cp1252')\n",
    "X = dataset.iloc[:, 3:18].values\n",
    "y = dataset.iloc[:, 18].values\n",
    "\n",
    "X_train, X_test, y_train, y_test = train_test_split(\n",
    "    X, y, test_size=0.25, random_state=1, stratify=y)\n",
    "\n",
    "from imblearn.over_sampling import RandomOverSampler\n",
    "ros = RandomOverSampler(random_state=1)\n",
    "X_train,y_train = ros.fit_resample(X_train,y_train)\n",
    "\n",
    "pipe = imbPipeline([\n",
    "    ('oversample', RandomOverSampler()),\n",
    "    ('sc', StandardScaler()),\n",
    "    ('clf', SVC(random_state=1, decision_function_shape='ovo'))\n",
    "    ])\n",
    "\n",
    "skf = StratifiedKFold()\n",
    "param_grid = {'clf__C': [0.1, 1, 10], 'clf__kernel': ['linear'] }\n",
    "# param_grid = {'clf__C': [0.1, 1, 10], 'clf__gamma': [0.1, 1, 10], 'clf__kernel': ['rbf'] }\n",
    "# param_grid = {'clf__C': [0.1, 1, 10], 'clf__gamma': [0.1, 1, 10], 'clf__degree': [2,3,4], 'clf__kernel': ['poly'] }\n",
    "# param_grid = {'clf__C': [0.1, 1, 10], 'clf__gamma': [0.1, 1, 10], 'clf__kernel': ['sigmoid'] }\n",
    "grid = GridSearchCV(pipe, param_grid, return_train_score=False,\n",
    "                    n_jobs=-1, scoring='accuracy', cv=skf, verbose=8)\n",
    "# grid.fit(X, y)\n",
    "grid.fit(X_train, y_train)\n",
    "grid.score(X_test, y_test)\n",
    "\n",
    "print(grid.best_params_, grid.best_score_)"
   ]
  },
  {
   "cell_type": "code",
   "execution_count": 5,
   "metadata": {},
   "outputs": [
    {
     "name": "stderr",
     "output_type": "stream",
     "text": [
      "C:\\Users\\Edmund\\Anaconda3\\lib\\site-packages\\sklearn\\model_selection\\_split.py:624: FutureWarning: You should specify a value for 'n_splits' instead of relying on the default value. The default value will change from 3 to 5 in version 0.22.\n",
      "  warnings.warn(NSPLIT_WARNING, FutureWarning)\n",
      "[Parallel(n_jobs=-1)]: Using backend LokyBackend with 4 concurrent workers.\n"
     ]
    },
    {
     "name": "stdout",
     "output_type": "stream",
     "text": [
      "Fitting 3 folds for each of 9 candidates, totalling 27 fits\n"
     ]
    },
    {
     "name": "stderr",
     "output_type": "stream",
     "text": [
      "[Parallel(n_jobs=-1)]: Done  10 tasks      | elapsed:   13.7s\n",
      "[Parallel(n_jobs=-1)]: Done  24 out of  27 | elapsed:   25.1s remaining:    3.0s\n",
      "[Parallel(n_jobs=-1)]: Done  27 out of  27 | elapsed:   27.8s finished\n"
     ]
    },
    {
     "name": "stdout",
     "output_type": "stream",
     "text": [
      "{'clf__C': 10, 'clf__gamma': 1, 'clf__kernel': 'rbf'} 0.7673626872446664\n"
     ]
    }
   ],
   "source": [
    "from imblearn.over_sampling import SMOTE, RandomOverSampler  # or: import RandomOverSampler\n",
    "from imblearn.over_sampling import RandomOverSampler\n",
    "from imblearn.pipeline import Pipeline as imbPipeline\n",
    "from sklearn.preprocessing import StandardScaler\n",
    "from sklearn.svm import SVC\n",
    "from sklearn.metrics import accuracy_score\n",
    "from sklearn.model_selection import (GridSearchCV,\n",
    "                                     train_test_split,\n",
    "                                     StratifiedKFold)\n",
    "import numpy as np\n",
    "import pandas as pd\n",
    "\n",
    "dataset = pd.read_csv('essaywithfeaturec2.csv', encoding='cp1252')\n",
    "X = dataset.iloc[:, 3:18].values\n",
    "y = dataset.iloc[:, 18].values\n",
    "\n",
    "X_train, X_test, y_train, y_test = train_test_split(\n",
    "    X, y, test_size=0.25, random_state=1, stratify=y)\n",
    "\n",
    "from imblearn.over_sampling import RandomOverSampler\n",
    "ros = RandomOverSampler(random_state=1)\n",
    "X_train,y_train = ros.fit_resample(X_train,y_train)\n",
    "\n",
    "pipe = imbPipeline([\n",
    "    ('oversample', RandomOverSampler()),\n",
    "    ('sc', StandardScaler()),\n",
    "    ('clf', SVC(random_state=1, decision_function_shape='ovo'))\n",
    "    ])\n",
    "\n",
    "skf = StratifiedKFold()\n",
    "# param_grid = {'clf__C': [0.1, 1, 10], 'clf__kernel': ['linear'] }\n",
    "param_grid = {'clf__C': [0.1, 1, 10], 'clf__gamma': [0.1, 1, 10], 'clf__kernel': ['rbf'] }\n",
    "# param_grid = {'clf__C': [0.1, 1, 10], 'clf__gamma': [0.1, 1, 10], 'clf__degree': [2,3,4], 'clf__kernel': ['poly'] }\n",
    "# param_grid = {'clf__C': [0.1, 1, 10], 'clf__gamma': [0.1, 1, 10], 'clf__kernel': ['sigmoid'] }\n",
    "grid = GridSearchCV(pipe, param_grid, return_train_score=False,\n",
    "                    n_jobs=-1, scoring='accuracy', cv=skf, verbose=8)\n",
    "# grid.fit(X, y)\n",
    "grid.fit(X_train, y_train)\n",
    "grid.score(X_test, y_test)\n",
    "\n",
    "print(grid.best_params_, grid.best_score_)"
   ]
  },
  {
   "cell_type": "code",
   "execution_count": null,
   "metadata": {},
   "outputs": [
    {
     "name": "stderr",
     "output_type": "stream",
     "text": [
      "C:\\Users\\Edmund\\Anaconda3\\lib\\site-packages\\sklearn\\model_selection\\_split.py:624: FutureWarning: You should specify a value for 'n_splits' instead of relying on the default value. The default value will change from 3 to 5 in version 0.22.\n",
      "  warnings.warn(NSPLIT_WARNING, FutureWarning)\n",
      "[Parallel(n_jobs=3)]: Using backend LokyBackend with 3 concurrent workers.\n"
     ]
    },
    {
     "name": "stdout",
     "output_type": "stream",
     "text": [
      "Fitting 3 folds for each of 27 candidates, totalling 81 fits\n"
     ]
    },
    {
     "name": "stderr",
     "output_type": "stream",
     "text": [
      "[Parallel(n_jobs=3)]: Done  12 tasks      | elapsed:  1.2min\n",
      "[Parallel(n_jobs=3)]: Done  35 tasks      | elapsed: 207.5min\n"
     ]
    }
   ],
   "source": [
    "from imblearn.over_sampling import SMOTE, RandomOverSampler  # or: import RandomOverSampler\n",
    "from imblearn.pipeline import Pipeline as imbPipeline\n",
    "from sklearn.preprocessing import StandardScaler\n",
    "from sklearn.svm import SVC\n",
    "from sklearn.metrics import accuracy_score\n",
    "from sklearn.model_selection import (GridSearchCV,\n",
    "                                     train_test_split,\n",
    "                                     StratifiedKFold)\n",
    "import numpy as np\n",
    "import pandas as pd\n",
    "\n",
    "dataset = pd.read_csv('essaywithfeaturec2.csv', encoding='cp1252')\n",
    "X = dataset.iloc[:, 3:18].values\n",
    "y = dataset.iloc[:, 18].values\n",
    "\n",
    "\n",
    "X_train, X_test, y_train, y_test = train_test_split(\n",
    "    X, y, test_size=0.25, random_state=1, stratify=y)\n",
    "\n",
    "from imblearn.over_sampling import RandomOverSampler\n",
    "ros = RandomOverSampler(random_state=1)\n",
    "X_train,y_train = ros.fit_resample(X_train,y_train)\n",
    "\n",
    "pipe = imbPipeline([\n",
    "    ('oversample', RandomOverSampler()),\n",
    "    ('sc', StandardScaler()),\n",
    "    ('clf', SVC(random_state=1, decision_function_shape='ovo'))\n",
    "    ])\n",
    "\n",
    "skf = StratifiedKFold()\n",
    "# param_grid = {'clf__C': [0.1, 1, 10], 'clf__kernel': ['linear'] }\n",
    "# param_grid = {'clf__C': [0.1, 1, 10], 'clf__gamma': [0.1, 1, 10], 'clf__kernel': ['rbf'] }\n",
    "param_grid = {'clf__C': [0.1, 1, 10], 'clf__gamma': [0.1, 1, 10], 'clf__degree': [2,3,4], 'clf__kernel': ['poly'] }\n",
    "# param_grid = {'clf__C': [0.1, 1, 10], 'clf__gamma': [0.1, 1, 10], 'clf__kernel': ['sigmoid'] }\n",
    "grid = GridSearchCV(pipe, param_grid, return_train_score=False,\n",
    "                    n_jobs=-1, scoring='accuracy', cv=skf, verbose=8)\n",
    "# grid.fit(X, y)\n",
    "grid.fit(X_train, y_train)\n",
    "grid.score(X_test, y_test)\n",
    "\n",
    "print(grid.best_params_, grid.best_score_)"
   ]
  },
  {
   "cell_type": "code",
   "execution_count": 6,
   "metadata": {},
   "outputs": [
    {
     "name": "stderr",
     "output_type": "stream",
     "text": [
      "C:\\Users\\Edmund\\Anaconda3\\lib\\site-packages\\sklearn\\model_selection\\_split.py:624: FutureWarning: You should specify a value for 'n_splits' instead of relying on the default value. The default value will change from 3 to 5 in version 0.22.\n",
      "  warnings.warn(NSPLIT_WARNING, FutureWarning)\n",
      "[Parallel(n_jobs=-1)]: Using backend LokyBackend with 4 concurrent workers.\n"
     ]
    },
    {
     "name": "stdout",
     "output_type": "stream",
     "text": [
      "Fitting 3 folds for each of 9 candidates, totalling 27 fits\n"
     ]
    },
    {
     "name": "stderr",
     "output_type": "stream",
     "text": [
      "[Parallel(n_jobs=-1)]: Done  10 tasks      | elapsed:    8.9s\n",
      "[Parallel(n_jobs=-1)]: Done  24 out of  27 | elapsed:   20.2s remaining:    2.4s\n",
      "[Parallel(n_jobs=-1)]: Done  27 out of  27 | elapsed:   21.3s finished\n"
     ]
    },
    {
     "name": "stdout",
     "output_type": "stream",
     "text": [
      "{'clf__C': 10, 'clf__gamma': 0.1, 'clf__kernel': 'sigmoid'} 0.4475714934180663\n"
     ]
    }
   ],
   "source": [
    "from imblearn.over_sampling import SMOTE, RandomOverSampler  # or: import RandomOverSampler\n",
    "from imblearn.pipeline import Pipeline as imbPipeline\n",
    "from sklearn.preprocessing import StandardScaler\n",
    "from sklearn.svm import SVC\n",
    "from sklearn.metrics import accuracy_score\n",
    "from sklearn.model_selection import (GridSearchCV,\n",
    "                                     train_test_split,\n",
    "                                     StratifiedKFold)\n",
    "import numpy as np\n",
    "import pandas as pd\n",
    "\n",
    "dataset = pd.read_csv('essaywithfeaturec2.csv', encoding='cp1252')\n",
    "X = dataset.iloc[:, 3:18].values\n",
    "y = dataset.iloc[:, 18].values\n",
    "\n",
    "X_train, X_test, y_train, y_test = train_test_split(\n",
    "    X, y, test_size=0.25, random_state=1, stratify=y)\n",
    "\n",
    "from imblearn.over_sampling import RandomOverSampler\n",
    "ros = RandomOverSampler(random_state=1)\n",
    "X_train,y_train = ros.fit_resample(X_train,y_train)\n",
    "\n",
    "pipe = imbPipeline([\n",
    "    ('oversample', RandomOverSampler()),\n",
    "    ('sc', StandardScaler()),\n",
    "    ('clf', SVC(random_state=1, decision_function_shape='ovo'))\n",
    "    ])\n",
    "\n",
    "skf = StratifiedKFold()\n",
    "# param_grid = {'clf__C': [0.1, 1, 10], 'clf__kernel': ['linear'] }\n",
    "# param_grid = {'clf__C': [0.1, 1, 10], 'clf__gamma': [0.1, 1, 10], 'clf__kernel': ['rbf'] }\n",
    "# param_grid = {'clf__C': [0.1, 1, 10], 'clf__gamma': [0.1, 1, 10], 'clf__degree': [2,3,4], 'clf__kernel': ['poly'] }\n",
    "param_grid = {'clf__C': [0.1, 1, 10], 'clf__gamma': [0.1, 1, 10], 'clf__kernel': ['sigmoid'] }\n",
    "grid = GridSearchCV(pipe, param_grid, return_train_score=False,\n",
    "                    n_jobs=-1, scoring='accuracy', cv=skf, verbose=8)\n",
    "# grid.fit(X, y)\n",
    "grid.fit(X_train, y_train)\n",
    "grid.score(X_test, y_test)\n",
    "\n",
    "print(grid.best_params_, grid.best_score_)"
   ]
  }
 ],
 "metadata": {
  "kernelspec": {
   "display_name": "Python 3",
   "language": "python",
   "name": "python3"
  },
  "language_info": {
   "codemirror_mode": {
    "name": "ipython",
    "version": 3
   },
   "file_extension": ".py",
   "mimetype": "text/x-python",
   "name": "python",
   "nbconvert_exporter": "python",
   "pygments_lexer": "ipython3",
   "version": "3.6.5"
  }
 },
 "nbformat": 4,
 "nbformat_minor": 2
}
