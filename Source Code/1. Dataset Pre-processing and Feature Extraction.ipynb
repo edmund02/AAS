{
 "cells": [
  {
   "cell_type": "markdown",
   "metadata": {
    "scrolled": true
   },
   "source": [
    "## Read csv to list"
   ]
  },
  {
   "cell_type": "code",
   "execution_count": 12,
   "metadata": {},
   "outputs": [
    {
     "name": "stdout",
     "output_type": "stream",
     "text": [
      "Done: read csv 12978 rows\n"
     ]
    }
   ],
   "source": [
    "#Read csv to list\n",
    "import time\n",
    "start = time.time()\n",
    "\n",
    "import csv\n",
    "import pickle\n",
    "\n",
    "\n",
    "with open(\"EssaySet.csv\",encoding=\"utf8\", errors='ignore') as csvfile:\n",
    "    reader = csv.reader(csvfile, delimiter=',')\n",
    "    next(reader) # skip header\n",
    "    data = []\n",
    "    for row in reader:\n",
    "        data.append(row)\n",
    "#         if len(data)==100 :\n",
    "#             break;\n",
    "        \n",
    "\n",
    "\n",
    "print(\"Done: read csv\",len(data), \"rows\")"
   ]
  },
  {
   "cell_type": "markdown",
   "metadata": {},
   "source": [
    "## Read columns into list"
   ]
  },
  {
   "cell_type": "code",
   "execution_count": 13,
   "metadata": {},
   "outputs": [
    {
     "name": "stdout",
     "output_type": "stream",
     "text": [
      "Done: read column to list 5875\n"
     ]
    }
   ],
   "source": [
    "#read column into list\n",
    "\n",
    "essay_id=[]\n",
    "essay_set=[]\n",
    "essay=[]\n",
    "human_score=[]\n",
    "\n",
    "for i in range(len(data)):\n",
    "    if data[i][1] == \"1\" or data[i][1] == \"2\" or data[i][1] == \"7\" or data[i][1] == \"8\" :\n",
    "        if data[i][6] == ''  :\n",
    "            continue\n",
    "        essay_id.append(data[i][0])\n",
    "        essay_set.append(data[i][1])\n",
    "        essay.append(data[i][2])\n",
    "        human_score.append(data[i][6])\n",
    "                \n",
    "\n",
    "print(\"Done: read column to list\", len(essay))"
   ]
  },
  {
   "cell_type": "markdown",
   "metadata": {},
   "source": [
    "## Clean Anonymization"
   ]
  },
  {
   "cell_type": "code",
   "execution_count": 15,
   "metadata": {
    "scrolled": true
   },
   "outputs": [
    {
     "name": "stdout",
     "output_type": "stream",
     "text": [
      "Done: clean NER\n"
     ]
    }
   ],
   "source": [
    "#Clean NER and read essay to list\n",
    "import re\n",
    "\n",
    "#clean NER function\n",
    "def cleanNER(essay) :\n",
    "\n",
    "    if re.search('@NUM\\d', essay) or re.search('@TIME\\d', essay) :\n",
    "        essay=re.sub('@NUM\\d',\"123\",essay)\n",
    "        if re.search('@\\w*', essay) :\n",
    "            essay=re.sub('@\\w*',\"Sunday\",essay)\n",
    "\n",
    "    elif re.search('@\\w*', essay) :\n",
    "            essay=re.sub('@\\w*',\"Sunday\",essay)\n",
    "    \n",
    "    return(essay)\n",
    "\n",
    "\n",
    "for i in range(len(essay)) :\n",
    "    essay[i]=cleanNER(essay[i])\n",
    "        \n",
    "print(\"Done: clean NER\")\n",
    "with open('newnew.csv', \"w\", newline='') as csvwriter:\n",
    "    writer = csv.writer(csvwriter)\n",
    "    writer.writerow(essay)"
   ]
  },
  {
   "cell_type": "markdown",
   "metadata": {},
   "source": [
    "## Tokenization"
   ]
  },
  {
   "cell_type": "code",
   "execution_count": 54,
   "metadata": {},
   "outputs": [
    {
     "name": "stdout",
     "output_type": "stream",
     "text": [
      "Done: tokenization\n"
     ]
    }
   ],
   "source": [
    "#tokenization\n",
    "from nltk.tokenize import sent_tokenize, TweetTokenizer\n",
    "\n",
    "TT=TweetTokenizer()\n",
    "\n",
    "\n",
    "#Tokenization function\n",
    "def wordTokenization(essay) :\n",
    "    \n",
    "    return TT.tokenize(essay)\n",
    "\n",
    "def sentTokenization(essay) :\n",
    "    \n",
    "    return sent_tokenize(essay)\n",
    "\n",
    "\n",
    "word_token = []\n",
    "sent_token=[]\n",
    "for i in essay:\n",
    "    word_token.append(wordTokenization(i))\n",
    "    sent_token.append(sentTokenization(i))\n",
    "\n",
    "\n",
    "print(\"Done: tokenization\")"
   ]
  },
  {
   "cell_type": "markdown",
   "metadata": {},
   "source": [
    "## Remove punctuation"
   ]
  },
  {
   "cell_type": "code",
   "execution_count": 55,
   "metadata": {},
   "outputs": [
    {
     "name": "stdout",
     "output_type": "stream",
     "text": [
      "Done: remove punctuation\n"
     ]
    }
   ],
   "source": [
    "#remove punctuation\n",
    "import string\n",
    "\n",
    "def removePunct(word_token) :\n",
    "    punctuation=set(string.punctuation)\n",
    "    checker=0\n",
    "    temp_word_token=[]\n",
    "    for i in range(len(word_token)): \n",
    "        for x in punctuation:\n",
    "            if x == word_token[i]:\n",
    "                checker = 1\n",
    "                break;\n",
    "        if checker == 0:\n",
    "            temp_word_token.append(word_token[i])\n",
    "        checker=0\n",
    "    return temp_word_token\n",
    "\n",
    "\n",
    "word_token_nopunct=[]\n",
    "\n",
    "for i in word_token :\n",
    "    word_token_nopunct.append(removePunct(i))\n",
    "\n",
    "\n",
    "print(\"Done: remove punctuation\")"
   ]
  },
  {
   "cell_type": "markdown",
   "metadata": {},
   "source": [
    "## Word count and sentence count (Feature 1 & 2)"
   ]
  },
  {
   "cell_type": "code",
   "execution_count": 27,
   "metadata": {},
   "outputs": [
    {
     "name": "stdout",
     "output_type": "stream",
     "text": [
      "Done: word & sent count\n"
     ]
    }
   ],
   "source": [
    "#word and sent count (feature 1 & 2)\n",
    "\n",
    "#word count and sentence count function\n",
    "def wordCount(word) :\n",
    "    return len(word)\n",
    "\n",
    "def sentCount(sent) :\n",
    "    return len(sent)\n",
    "\n",
    "    \n",
    "word_count=[]\n",
    "sent_count=[]\n",
    "\n",
    "for i in word_token_nopunct :\n",
    "    word_count.append(wordCount(i))\n",
    "\n",
    "for i in sent_token :\n",
    "    sent_count.append(sentCount(i))\n",
    "\n",
    "\n",
    "print(\"Done: word & sent count\")\n"
   ]
  },
  {
   "cell_type": "markdown",
   "metadata": {},
   "source": [
    "## Average word length (Feature 3)"
   ]
  },
  {
   "cell_type": "code",
   "execution_count": 28,
   "metadata": {},
   "outputs": [
    {
     "name": "stdout",
     "output_type": "stream",
     "text": [
      "Done: Average word length\n"
     ]
    }
   ],
   "source": [
    "def averageWordLength(word, wordcount) :\n",
    "    total = 0\n",
    "    for i in word :\n",
    "        total += len(i)\n",
    "        \n",
    "    return(total/wordcount)\n",
    "\n",
    "average_word_length = []\n",
    "\n",
    "for i in range(len(word_count)) :\n",
    "    average_word_length.append(averageWordLength(word_token_nopunct[i],word_count[i]))\n",
    "\n",
    "print(\"Done: Average word length\")"
   ]
  },
  {
   "cell_type": "markdown",
   "metadata": {},
   "source": [
    "## Long word count (Feature 4)"
   ]
  },
  {
   "cell_type": "code",
   "execution_count": 29,
   "metadata": {},
   "outputs": [
    {
     "name": "stdout",
     "output_type": "stream",
     "text": [
      "Done: long word count\n"
     ]
    }
   ],
   "source": [
    "def longWordCount(word) :\n",
    "    longcheck = []\n",
    "    for i in word :\n",
    "        if len(i) > 7 :\n",
    "            longcheck.append(i)\n",
    "    return len(longcheck)\n",
    "\n",
    "longword_count = []\n",
    "\n",
    "for i in word_token_nopunct :\n",
    "    longword_count.append(longWordCount(i))\n",
    "    \n",
    "print(\"Done: long word count\")"
   ]
  },
  {
   "cell_type": "markdown",
   "metadata": {},
   "source": [
    "## Average sentence length (Feature 5)"
   ]
  },
  {
   "cell_type": "code",
   "execution_count": 30,
   "metadata": {},
   "outputs": [
    {
     "name": "stdout",
     "output_type": "stream",
     "text": [
      "Done: Average sent length\n"
     ]
    }
   ],
   "source": [
    "def averageSentLength(sent,sentcount) :\n",
    "    total = 0\n",
    "    for i in sent :\n",
    "        a = removePunct(TT.tokenize(i))\n",
    "        total += len(a)\n",
    "    \n",
    "    return(total/sentcount)\n",
    "        \n",
    "average_sent_length = []\n",
    "\n",
    "for i in range(len(sent_count)) :\n",
    "    average_sent_length.append(averageSentLength(sent_token[i],sent_count[i]))\n",
    "    \n",
    "\n",
    "print(\"Done: Average sent length\")"
   ]
  },
  {
   "cell_type": "markdown",
   "metadata": {},
   "source": [
    "## Long sentence count (Feature 6)"
   ]
  },
  {
   "cell_type": "code",
   "execution_count": 31,
   "metadata": {},
   "outputs": [
    {
     "name": "stdout",
     "output_type": "stream",
     "text": [
      "Done: long sentence count\n"
     ]
    }
   ],
   "source": [
    "def longSentCount(sent) :\n",
    "    longcheck = []\n",
    "    for i in sent :\n",
    "        a = removePunct(TT.tokenize(i))\n",
    "        if len(a) > 15 :\n",
    "            longcheck.append(a)\n",
    "    return len(longcheck)\n",
    "            \n",
    "longsent_count = []\n",
    "\n",
    "for i in sent_token :\n",
    "    longsent_count.append(longSentCount(i))\n",
    "    \n",
    "print(\"Done: long sentence count\")"
   ]
  },
  {
   "cell_type": "code",
   "execution_count": 32,
   "metadata": {},
   "outputs": [],
   "source": [
    "# for i in range(len(sent_count)) :\n",
    "#     print(longsent_count[i],sent_count[i])"
   ]
  },
  {
   "cell_type": "markdown",
   "metadata": {},
   "source": [
    "## Stemming"
   ]
  },
  {
   "cell_type": "code",
   "execution_count": 33,
   "metadata": {},
   "outputs": [
    {
     "name": "stdout",
     "output_type": "stream",
     "text": [
      "Done: stemming\n"
     ]
    }
   ],
   "source": [
    "#stemming\n",
    "from nltk.stem import PorterStemmer\n",
    "\n",
    "#stem word function\n",
    "def wordStem(word) :\n",
    "    \n",
    "    ps = PorterStemmer()\n",
    "    temp_word_token=[]\n",
    "    \n",
    "    for i in word:\n",
    "        \n",
    "        if ps.stem(i)[-1:] == \"'\" :\n",
    "            temp_word_token.append(ps.stem(ps.stem(i)[:-1]))\n",
    "        \n",
    "        elif re.search(\"'\\w*\", i) :\n",
    "            temp_word_token.append(ps.stem(re.sub(\"'\\w*\",\"\",i) ))\n",
    "        \n",
    "        else :\n",
    "            temp_word_token.append(ps.stem(i))\n",
    "        \n",
    "    return temp_word_token\n",
    "\n",
    "word_token_stemmed = []\n",
    "\n",
    "for i in word_token_nopunct :\n",
    "    word_token_stemmed.append(wordStem(i))\n",
    "\n",
    "\n",
    "print(\"Done: stemming\")"
   ]
  },
  {
   "cell_type": "markdown",
   "metadata": {},
   "source": [
    "## Unique word count (Feature 7)"
   ]
  },
  {
   "cell_type": "code",
   "execution_count": 35,
   "metadata": {},
   "outputs": [
    {
     "name": "stdout",
     "output_type": "stream",
     "text": [
      "Done: unique word count\n"
     ]
    }
   ],
   "source": [
    "#unique word count (feature 3)\n",
    "\n",
    "#count unique word function\n",
    "def uniqueWordCount(word) :\n",
    "    return len(set(word))\n",
    "   \n",
    "    \n",
    "unique_word_count = []\n",
    "\n",
    "for i in word_token_stemmed:\n",
    "    unique_word_count.append(uniqueWordCount(i))\n",
    "\n",
    "\n",
    "print(\"Done: unique word count\")"
   ]
  },
  {
   "cell_type": "markdown",
   "metadata": {},
   "source": [
    "## Part-of-speech tagging"
   ]
  },
  {
   "cell_type": "code",
   "execution_count": 56,
   "metadata": {},
   "outputs": [
    {
     "name": "stdout",
     "output_type": "stream",
     "text": [
      "Done: pos tag\n"
     ]
    }
   ],
   "source": [
    "#POS tag with nltk\n",
    "import nltk\n",
    "\n",
    "\n",
    "#pos tagging function\n",
    "def posTag(word) :\n",
    "    return nltk.pos_tag(word)\n",
    "    \n",
    "tagged = []\n",
    "\n",
    "for i in word_token_nopunct:\n",
    "    tagged.append(posTag(i))\n",
    "\n",
    "print(\"Done: pos tag\")\n"
   ]
  },
  {
   "cell_type": "markdown",
   "metadata": {},
   "source": [
    "## Noun count (feature 8)"
   ]
  },
  {
   "cell_type": "code",
   "execution_count": 39,
   "metadata": {
    "scrolled": true
   },
   "outputs": [
    {
     "name": "stdout",
     "output_type": "stream",
     "text": [
      "Done: noun_count\n"
     ]
    }
   ],
   "source": [
    "#noun tag count (feature 4)\n",
    "\n",
    "#count noun tag function\n",
    "def nounCount(word) :\n",
    "    temp_word=[]\n",
    "    for i in word:\n",
    "        if i[1] == 'NN' or i[1] == 'NNS':\n",
    "            temp_word.append(i)\n",
    "    return len(temp_word)\n",
    "\n",
    "noun_count=[]\n",
    "\n",
    "for i in tagged :\n",
    "    noun_count.append(nounCount(i))\n",
    "\n",
    "\n",
    "print(\"Done: noun_count\")"
   ]
  },
  {
   "cell_type": "markdown",
   "metadata": {},
   "source": [
    "## Proper Noun count (feature 9)"
   ]
  },
  {
   "cell_type": "code",
   "execution_count": 40,
   "metadata": {},
   "outputs": [
    {
     "name": "stdout",
     "output_type": "stream",
     "text": [
      "Done: propernoun_count\n"
     ]
    }
   ],
   "source": [
    "#proper noun tag count (feature 4)\n",
    "\n",
    "#count proper noun tag function\n",
    "def propernounCount(word) :\n",
    "    temp_word=[]\n",
    "    for i in word:\n",
    "        if i[1] == 'NNP' or i[1] == 'NNPS':\n",
    "            temp_word.append(i)\n",
    "    return len(temp_word)\n",
    "\n",
    "propernoun_count=[]\n",
    "\n",
    "for i in tagged :\n",
    "    propernoun_count.append(propernounCount(i))\n",
    "\n",
    "print(\"Done: propernoun_count\")"
   ]
  },
  {
   "cell_type": "markdown",
   "metadata": {},
   "source": [
    "## Adjective count (Feature 10)"
   ]
  },
  {
   "cell_type": "code",
   "execution_count": 41,
   "metadata": {},
   "outputs": [
    {
     "name": "stdout",
     "output_type": "stream",
     "text": [
      "Done: adj_count\n"
     ]
    }
   ],
   "source": [
    "#adjective tag count (feature 5)\n",
    "\n",
    "##count adjective tag function\n",
    "def adjCount(word) :\n",
    "    temp_word=[]\n",
    "    for i in word:\n",
    "        if i[1] == 'JJ' or i[1] == 'JJR' or i[1] == 'JJS' :\n",
    "            temp_word.append(i)\n",
    "    return len(temp_word)\n",
    "\n",
    "adj_count=[]\n",
    "\n",
    "for i in tagged :\n",
    "    adj_count.append(adjCount(i))\n",
    "    \n",
    "\n",
    "print(\"Done: adj_count\")"
   ]
  },
  {
   "cell_type": "markdown",
   "metadata": {},
   "source": [
    "## Verb count (Feature 11)"
   ]
  },
  {
   "cell_type": "code",
   "execution_count": 57,
   "metadata": {},
   "outputs": [
    {
     "name": "stdout",
     "output_type": "stream",
     "text": [
      "Done: verb_count\n"
     ]
    }
   ],
   "source": [
    "#verb tag count (feature 6)\n",
    "\n",
    "#count verb tag function\n",
    "def verbCount(word) :\n",
    "    temp_word=[]\n",
    "    for i in word:\n",
    "        if i[1] == 'VB' or i[1] == 'VBD' or i[1] == 'VBG' or i[1] == 'VBN' or i[1] == 'VBP' or i[1] == 'VBZ'  :\n",
    "            temp_word.append(i)\n",
    "    return len(temp_word)\n",
    "\n",
    "verb_count=[]\n",
    "\n",
    "for i in tagged :\n",
    "    verb_count.append(verbCount(i))\n",
    "\n",
    "print(\"Done: verb_count\")"
   ]
  },
  {
   "cell_type": "markdown",
   "metadata": {},
   "source": [
    "## Adverb count (Feature 12)"
   ]
  },
  {
   "cell_type": "code",
   "execution_count": 43,
   "metadata": {
    "scrolled": true
   },
   "outputs": [
    {
     "name": "stdout",
     "output_type": "stream",
     "text": [
      "Done: adverb_count\n"
     ]
    }
   ],
   "source": [
    "#count adverb tag function\n",
    "def adverbCount(word) :\n",
    "    temp_word=[]\n",
    "    for i in word:\n",
    "        if i[1] == 'RB' or i[1] == 'RBR' or i[1] == 'RBS' :\n",
    "            temp_word.append(i)\n",
    "    return len(temp_word)\n",
    "\n",
    "adverb_count=[]\n",
    "\n",
    "for i in tagged :\n",
    "    adverb_count.append(adverbCount(i))\n",
    "       \n",
    "print(\"Done: adverb_count\")"
   ]
  },
  {
   "cell_type": "markdown",
   "metadata": {},
   "source": [
    "## Tense ratio (Feature 13)"
   ]
  },
  {
   "cell_type": "code",
   "execution_count": 59,
   "metadata": {},
   "outputs": [
    {
     "name": "stdout",
     "output_type": "stream",
     "text": [
      "Done: tense_ratio\n"
     ]
    }
   ],
   "source": [
    "#tense ratio\n",
    "def ratioCount(word,verb_count) :\n",
    "    present = []\n",
    "    past = []\n",
    "    temp_word=[]\n",
    "    \n",
    "    for i in word:\n",
    "        if i[1] == 'VB' or i[1] == 'VBZ' or i[1] == 'VBG' or i[1] == 'VBP' :\n",
    "            present.append(i)\n",
    "        elif i[1] == 'VBD' or i[1] == 'VBN':\n",
    "            past.append(i)\n",
    "    \n",
    "    \n",
    "    if len(present) > len(past) :\n",
    "        return(len(present)/verb_count)\n",
    "    elif len(past) > len(present):\n",
    "        return(len(past)/verb_count)\n",
    "    else :\n",
    "        return(0)\n",
    "    \n",
    "\n",
    "tense_ratio = []\n",
    "\n",
    "for i in range(len(tagged)) :\n",
    "    tense_ratio.append(ratioCount(tagged[i],verb_count[i]))\n",
    "\n",
    "\n",
    "print(\"Done: tense_ratio\")"
   ]
  },
  {
   "cell_type": "markdown",
   "metadata": {},
   "source": [
    "## Error count (Feature 14)"
   ]
  },
  {
   "cell_type": "code",
   "execution_count": 45,
   "metadata": {
    "scrolled": true
   },
   "outputs": [
    {
     "ename": "KeyboardInterrupt",
     "evalue": "",
     "output_type": "error",
     "traceback": [
      "\u001b[1;31m---------------------------------------------------------------------------\u001b[0m",
      "\u001b[1;31mKeyboardInterrupt\u001b[0m                         Traceback (most recent call last)",
      "\u001b[1;32m<ipython-input-45-aaa74029b2f7>\u001b[0m in \u001b[0;36m<module>\u001b[1;34m()\u001b[0m\n\u001b[0;32m     14\u001b[0m \u001b[1;33m\u001b[0m\u001b[0m\n\u001b[0;32m     15\u001b[0m \u001b[1;32mfor\u001b[0m \u001b[0mi\u001b[0m \u001b[1;32min\u001b[0m \u001b[0messay\u001b[0m \u001b[1;33m:\u001b[0m\u001b[1;33m\u001b[0m\u001b[0m\n\u001b[1;32m---> 16\u001b[1;33m     \u001b[0merror_count\u001b[0m\u001b[1;33m.\u001b[0m\u001b[0mappend\u001b[0m\u001b[1;33m(\u001b[0m\u001b[0merrorCount\u001b[0m\u001b[1;33m(\u001b[0m\u001b[0mi\u001b[0m\u001b[1;33m)\u001b[0m\u001b[1;33m)\u001b[0m\u001b[1;33m\u001b[0m\u001b[0m\n\u001b[0m\u001b[0;32m     17\u001b[0m \u001b[1;33m\u001b[0m\u001b[0m\n\u001b[0;32m     18\u001b[0m \u001b[1;32mimport\u001b[0m \u001b[0mpickle\u001b[0m\u001b[1;33m\u001b[0m\u001b[0m\n",
      "\u001b[1;32m<ipython-input-45-aaa74029b2f7>\u001b[0m in \u001b[0;36merrorCount\u001b[1;34m(essay)\u001b[0m\n\u001b[0;32m      7\u001b[0m \u001b[1;32mdef\u001b[0m \u001b[0merrorCount\u001b[0m\u001b[1;33m(\u001b[0m\u001b[0messay\u001b[0m\u001b[1;33m)\u001b[0m \u001b[1;33m:\u001b[0m\u001b[1;33m\u001b[0m\u001b[0m\n\u001b[0;32m      8\u001b[0m     \u001b[0mchecker\u001b[0m \u001b[1;33m=\u001b[0m \u001b[1;33m[\u001b[0m\u001b[1;33m]\u001b[0m\u001b[1;33m\u001b[0m\u001b[0m\n\u001b[1;32m----> 9\u001b[1;33m     \u001b[0mmatches\u001b[0m \u001b[1;33m=\u001b[0m \u001b[0mtool\u001b[0m\u001b[1;33m.\u001b[0m\u001b[0mcheck\u001b[0m\u001b[1;33m(\u001b[0m\u001b[0messay\u001b[0m\u001b[1;33m)\u001b[0m\u001b[1;33m\u001b[0m\u001b[0m\n\u001b[0m\u001b[0;32m     10\u001b[0m     \u001b[1;32mfor\u001b[0m \u001b[0mi\u001b[0m \u001b[1;32min\u001b[0m \u001b[0mmatches\u001b[0m \u001b[1;33m:\u001b[0m\u001b[1;33m\u001b[0m\u001b[0m\n\u001b[0;32m     11\u001b[0m         \u001b[0mchecker\u001b[0m\u001b[1;33m.\u001b[0m\u001b[0mappend\u001b[0m\u001b[1;33m(\u001b[0m\u001b[0mi\u001b[0m\u001b[1;33m.\u001b[0m\u001b[0mfromx\u001b[0m\u001b[1;33m)\u001b[0m\u001b[1;33m\u001b[0m\u001b[0m\n",
      "\u001b[1;32mC:\\ProgramData\\Anaconda3\\lib\\site-packages\\language_check\\__init__.py\u001b[0m in \u001b[0;36mcheck\u001b[1;34m(self, text, srctext)\u001b[0m\n\u001b[0;32m    248\u001b[0m     \u001b[1;32mdef\u001b[0m \u001b[0mcheck\u001b[0m\u001b[1;33m(\u001b[0m\u001b[0mself\u001b[0m\u001b[1;33m,\u001b[0m \u001b[0mtext\u001b[0m\u001b[1;33m:\u001b[0m \u001b[0mstr\u001b[0m\u001b[1;33m,\u001b[0m \u001b[0msrctext\u001b[0m\u001b[1;33m=\u001b[0m\u001b[1;32mNone\u001b[0m\u001b[1;33m)\u001b[0m \u001b[1;33m->\u001b[0m \u001b[1;33m[\u001b[0m\u001b[0mMatch\u001b[0m\u001b[1;33m]\u001b[0m\u001b[1;33m:\u001b[0m\u001b[1;33m\u001b[0m\u001b[0m\n\u001b[0;32m    249\u001b[0m         \u001b[1;34m\"\"\"Match text against enabled rules.\"\"\"\u001b[0m\u001b[1;33m\u001b[0m\u001b[0m\n\u001b[1;32m--> 250\u001b[1;33m         \u001b[0mroot\u001b[0m \u001b[1;33m=\u001b[0m \u001b[0mself\u001b[0m\u001b[1;33m.\u001b[0m\u001b[0m_get_root\u001b[0m\u001b[1;33m(\u001b[0m\u001b[0mself\u001b[0m\u001b[1;33m.\u001b[0m\u001b[0m_url\u001b[0m\u001b[1;33m,\u001b[0m \u001b[0mself\u001b[0m\u001b[1;33m.\u001b[0m\u001b[0m_encode\u001b[0m\u001b[1;33m(\u001b[0m\u001b[0mtext\u001b[0m\u001b[1;33m,\u001b[0m \u001b[0msrctext\u001b[0m\u001b[1;33m)\u001b[0m\u001b[1;33m)\u001b[0m\u001b[1;33m\u001b[0m\u001b[0m\n\u001b[0m\u001b[0;32m    251\u001b[0m         \u001b[1;32mreturn\u001b[0m \u001b[1;33m[\u001b[0m\u001b[0mMatch\u001b[0m\u001b[1;33m(\u001b[0m\u001b[0me\u001b[0m\u001b[1;33m.\u001b[0m\u001b[0mattrib\u001b[0m\u001b[1;33m)\u001b[0m \u001b[1;32mfor\u001b[0m \u001b[0me\u001b[0m \u001b[1;32min\u001b[0m \u001b[0mroot\u001b[0m \u001b[1;32mif\u001b[0m \u001b[0me\u001b[0m\u001b[1;33m.\u001b[0m\u001b[0mtag\u001b[0m \u001b[1;33m==\u001b[0m \u001b[1;34m'error'\u001b[0m\u001b[1;33m]\u001b[0m\u001b[1;33m\u001b[0m\u001b[0m\n\u001b[0;32m    252\u001b[0m \u001b[1;33m\u001b[0m\u001b[0m\n",
      "\u001b[1;32mC:\\ProgramData\\Anaconda3\\lib\\site-packages\\language_check\\__init__.py\u001b[0m in \u001b[0;36m_get_root\u001b[1;34m(cls, url, data, num_tries)\u001b[0m\n\u001b[0;32m    317\u001b[0m         \u001b[1;32mfor\u001b[0m \u001b[0mn\u001b[0m \u001b[1;32min\u001b[0m \u001b[0mrange\u001b[0m\u001b[1;33m(\u001b[0m\u001b[0mnum_tries\u001b[0m\u001b[1;33m)\u001b[0m\u001b[1;33m:\u001b[0m\u001b[1;33m\u001b[0m\u001b[0m\n\u001b[0;32m    318\u001b[0m             \u001b[1;32mtry\u001b[0m\u001b[1;33m:\u001b[0m\u001b[1;33m\u001b[0m\u001b[0m\n\u001b[1;32m--> 319\u001b[1;33m                 \u001b[1;32mwith\u001b[0m \u001b[0murlopen\u001b[0m\u001b[1;33m(\u001b[0m\u001b[0murl\u001b[0m\u001b[1;33m,\u001b[0m \u001b[0mdata\u001b[0m\u001b[1;33m,\u001b[0m \u001b[0mcls\u001b[0m\u001b[1;33m.\u001b[0m\u001b[0m_TIMEOUT\u001b[0m\u001b[1;33m)\u001b[0m \u001b[1;32mas\u001b[0m \u001b[0mf\u001b[0m\u001b[1;33m:\u001b[0m\u001b[1;33m\u001b[0m\u001b[0m\n\u001b[0m\u001b[0;32m    320\u001b[0m                     \u001b[1;32mreturn\u001b[0m \u001b[0mElementTree\u001b[0m\u001b[1;33m.\u001b[0m\u001b[0mparse\u001b[0m\u001b[1;33m(\u001b[0m\u001b[0mf\u001b[0m\u001b[1;33m)\u001b[0m\u001b[1;33m.\u001b[0m\u001b[0mgetroot\u001b[0m\u001b[1;33m(\u001b[0m\u001b[1;33m)\u001b[0m\u001b[1;33m\u001b[0m\u001b[0m\n\u001b[0;32m    321\u001b[0m             \u001b[1;32mexcept\u001b[0m \u001b[1;33m(\u001b[0m\u001b[0mIOError\u001b[0m\u001b[1;33m,\u001b[0m \u001b[0mhttp\u001b[0m\u001b[1;33m.\u001b[0m\u001b[0mclient\u001b[0m\u001b[1;33m.\u001b[0m\u001b[0mHTTPException\u001b[0m\u001b[1;33m)\u001b[0m \u001b[1;32mas\u001b[0m \u001b[0me\u001b[0m\u001b[1;33m:\u001b[0m\u001b[1;33m\u001b[0m\u001b[0m\n",
      "\u001b[1;32mC:\\ProgramData\\Anaconda3\\lib\\urllib\\request.py\u001b[0m in \u001b[0;36murlopen\u001b[1;34m(url, data, timeout, cafile, capath, cadefault, context)\u001b[0m\n\u001b[0;32m    221\u001b[0m     \u001b[1;32melse\u001b[0m\u001b[1;33m:\u001b[0m\u001b[1;33m\u001b[0m\u001b[0m\n\u001b[0;32m    222\u001b[0m         \u001b[0mopener\u001b[0m \u001b[1;33m=\u001b[0m \u001b[0m_opener\u001b[0m\u001b[1;33m\u001b[0m\u001b[0m\n\u001b[1;32m--> 223\u001b[1;33m     \u001b[1;32mreturn\u001b[0m \u001b[0mopener\u001b[0m\u001b[1;33m.\u001b[0m\u001b[0mopen\u001b[0m\u001b[1;33m(\u001b[0m\u001b[0murl\u001b[0m\u001b[1;33m,\u001b[0m \u001b[0mdata\u001b[0m\u001b[1;33m,\u001b[0m \u001b[0mtimeout\u001b[0m\u001b[1;33m)\u001b[0m\u001b[1;33m\u001b[0m\u001b[0m\n\u001b[0m\u001b[0;32m    224\u001b[0m \u001b[1;33m\u001b[0m\u001b[0m\n\u001b[0;32m    225\u001b[0m \u001b[1;32mdef\u001b[0m \u001b[0minstall_opener\u001b[0m\u001b[1;33m(\u001b[0m\u001b[0mopener\u001b[0m\u001b[1;33m)\u001b[0m\u001b[1;33m:\u001b[0m\u001b[1;33m\u001b[0m\u001b[0m\n",
      "\u001b[1;32mC:\\ProgramData\\Anaconda3\\lib\\urllib\\request.py\u001b[0m in \u001b[0;36mopen\u001b[1;34m(self, fullurl, data, timeout)\u001b[0m\n\u001b[0;32m    524\u001b[0m             \u001b[0mreq\u001b[0m \u001b[1;33m=\u001b[0m \u001b[0mmeth\u001b[0m\u001b[1;33m(\u001b[0m\u001b[0mreq\u001b[0m\u001b[1;33m)\u001b[0m\u001b[1;33m\u001b[0m\u001b[0m\n\u001b[0;32m    525\u001b[0m \u001b[1;33m\u001b[0m\u001b[0m\n\u001b[1;32m--> 526\u001b[1;33m         \u001b[0mresponse\u001b[0m \u001b[1;33m=\u001b[0m \u001b[0mself\u001b[0m\u001b[1;33m.\u001b[0m\u001b[0m_open\u001b[0m\u001b[1;33m(\u001b[0m\u001b[0mreq\u001b[0m\u001b[1;33m,\u001b[0m \u001b[0mdata\u001b[0m\u001b[1;33m)\u001b[0m\u001b[1;33m\u001b[0m\u001b[0m\n\u001b[0m\u001b[0;32m    527\u001b[0m \u001b[1;33m\u001b[0m\u001b[0m\n\u001b[0;32m    528\u001b[0m         \u001b[1;31m# post-process response\u001b[0m\u001b[1;33m\u001b[0m\u001b[1;33m\u001b[0m\u001b[0m\n",
      "\u001b[1;32mC:\\ProgramData\\Anaconda3\\lib\\urllib\\request.py\u001b[0m in \u001b[0;36m_open\u001b[1;34m(self, req, data)\u001b[0m\n\u001b[0;32m    542\u001b[0m         \u001b[0mprotocol\u001b[0m \u001b[1;33m=\u001b[0m \u001b[0mreq\u001b[0m\u001b[1;33m.\u001b[0m\u001b[0mtype\u001b[0m\u001b[1;33m\u001b[0m\u001b[0m\n\u001b[0;32m    543\u001b[0m         result = self._call_chain(self.handle_open, protocol, protocol +\n\u001b[1;32m--> 544\u001b[1;33m                                   '_open', req)\n\u001b[0m\u001b[0;32m    545\u001b[0m         \u001b[1;32mif\u001b[0m \u001b[0mresult\u001b[0m\u001b[1;33m:\u001b[0m\u001b[1;33m\u001b[0m\u001b[0m\n\u001b[0;32m    546\u001b[0m             \u001b[1;32mreturn\u001b[0m \u001b[0mresult\u001b[0m\u001b[1;33m\u001b[0m\u001b[0m\n",
      "\u001b[1;32mC:\\ProgramData\\Anaconda3\\lib\\urllib\\request.py\u001b[0m in \u001b[0;36m_call_chain\u001b[1;34m(self, chain, kind, meth_name, *args)\u001b[0m\n\u001b[0;32m    502\u001b[0m         \u001b[1;32mfor\u001b[0m \u001b[0mhandler\u001b[0m \u001b[1;32min\u001b[0m \u001b[0mhandlers\u001b[0m\u001b[1;33m:\u001b[0m\u001b[1;33m\u001b[0m\u001b[0m\n\u001b[0;32m    503\u001b[0m             \u001b[0mfunc\u001b[0m \u001b[1;33m=\u001b[0m \u001b[0mgetattr\u001b[0m\u001b[1;33m(\u001b[0m\u001b[0mhandler\u001b[0m\u001b[1;33m,\u001b[0m \u001b[0mmeth_name\u001b[0m\u001b[1;33m)\u001b[0m\u001b[1;33m\u001b[0m\u001b[0m\n\u001b[1;32m--> 504\u001b[1;33m             \u001b[0mresult\u001b[0m \u001b[1;33m=\u001b[0m \u001b[0mfunc\u001b[0m\u001b[1;33m(\u001b[0m\u001b[1;33m*\u001b[0m\u001b[0margs\u001b[0m\u001b[1;33m)\u001b[0m\u001b[1;33m\u001b[0m\u001b[0m\n\u001b[0m\u001b[0;32m    505\u001b[0m             \u001b[1;32mif\u001b[0m \u001b[0mresult\u001b[0m \u001b[1;32mis\u001b[0m \u001b[1;32mnot\u001b[0m \u001b[1;32mNone\u001b[0m\u001b[1;33m:\u001b[0m\u001b[1;33m\u001b[0m\u001b[0m\n\u001b[0;32m    506\u001b[0m                 \u001b[1;32mreturn\u001b[0m \u001b[0mresult\u001b[0m\u001b[1;33m\u001b[0m\u001b[0m\n",
      "\u001b[1;32mC:\\ProgramData\\Anaconda3\\lib\\urllib\\request.py\u001b[0m in \u001b[0;36mhttp_open\u001b[1;34m(self, req)\u001b[0m\n\u001b[0;32m   1344\u001b[0m \u001b[1;33m\u001b[0m\u001b[0m\n\u001b[0;32m   1345\u001b[0m     \u001b[1;32mdef\u001b[0m \u001b[0mhttp_open\u001b[0m\u001b[1;33m(\u001b[0m\u001b[0mself\u001b[0m\u001b[1;33m,\u001b[0m \u001b[0mreq\u001b[0m\u001b[1;33m)\u001b[0m\u001b[1;33m:\u001b[0m\u001b[1;33m\u001b[0m\u001b[0m\n\u001b[1;32m-> 1346\u001b[1;33m         \u001b[1;32mreturn\u001b[0m \u001b[0mself\u001b[0m\u001b[1;33m.\u001b[0m\u001b[0mdo_open\u001b[0m\u001b[1;33m(\u001b[0m\u001b[0mhttp\u001b[0m\u001b[1;33m.\u001b[0m\u001b[0mclient\u001b[0m\u001b[1;33m.\u001b[0m\u001b[0mHTTPConnection\u001b[0m\u001b[1;33m,\u001b[0m \u001b[0mreq\u001b[0m\u001b[1;33m)\u001b[0m\u001b[1;33m\u001b[0m\u001b[0m\n\u001b[0m\u001b[0;32m   1347\u001b[0m \u001b[1;33m\u001b[0m\u001b[0m\n\u001b[0;32m   1348\u001b[0m     \u001b[0mhttp_request\u001b[0m \u001b[1;33m=\u001b[0m \u001b[0mAbstractHTTPHandler\u001b[0m\u001b[1;33m.\u001b[0m\u001b[0mdo_request_\u001b[0m\u001b[1;33m\u001b[0m\u001b[0m\n",
      "\u001b[1;32mC:\\ProgramData\\Anaconda3\\lib\\urllib\\request.py\u001b[0m in \u001b[0;36mdo_open\u001b[1;34m(self, http_class, req, **http_conn_args)\u001b[0m\n\u001b[0;32m   1319\u001b[0m             \u001b[1;32mexcept\u001b[0m \u001b[0mOSError\u001b[0m \u001b[1;32mas\u001b[0m \u001b[0merr\u001b[0m\u001b[1;33m:\u001b[0m \u001b[1;31m# timeout error\u001b[0m\u001b[1;33m\u001b[0m\u001b[0m\n\u001b[0;32m   1320\u001b[0m                 \u001b[1;32mraise\u001b[0m \u001b[0mURLError\u001b[0m\u001b[1;33m(\u001b[0m\u001b[0merr\u001b[0m\u001b[1;33m)\u001b[0m\u001b[1;33m\u001b[0m\u001b[0m\n\u001b[1;32m-> 1321\u001b[1;33m             \u001b[0mr\u001b[0m \u001b[1;33m=\u001b[0m \u001b[0mh\u001b[0m\u001b[1;33m.\u001b[0m\u001b[0mgetresponse\u001b[0m\u001b[1;33m(\u001b[0m\u001b[1;33m)\u001b[0m\u001b[1;33m\u001b[0m\u001b[0m\n\u001b[0m\u001b[0;32m   1322\u001b[0m         \u001b[1;32mexcept\u001b[0m\u001b[1;33m:\u001b[0m\u001b[1;33m\u001b[0m\u001b[0m\n\u001b[0;32m   1323\u001b[0m             \u001b[0mh\u001b[0m\u001b[1;33m.\u001b[0m\u001b[0mclose\u001b[0m\u001b[1;33m(\u001b[0m\u001b[1;33m)\u001b[0m\u001b[1;33m\u001b[0m\u001b[0m\n",
      "\u001b[1;32mC:\\ProgramData\\Anaconda3\\lib\\http\\client.py\u001b[0m in \u001b[0;36mgetresponse\u001b[1;34m(self)\u001b[0m\n\u001b[0;32m   1329\u001b[0m         \u001b[1;32mtry\u001b[0m\u001b[1;33m:\u001b[0m\u001b[1;33m\u001b[0m\u001b[0m\n\u001b[0;32m   1330\u001b[0m             \u001b[1;32mtry\u001b[0m\u001b[1;33m:\u001b[0m\u001b[1;33m\u001b[0m\u001b[0m\n\u001b[1;32m-> 1331\u001b[1;33m                 \u001b[0mresponse\u001b[0m\u001b[1;33m.\u001b[0m\u001b[0mbegin\u001b[0m\u001b[1;33m(\u001b[0m\u001b[1;33m)\u001b[0m\u001b[1;33m\u001b[0m\u001b[0m\n\u001b[0m\u001b[0;32m   1332\u001b[0m             \u001b[1;32mexcept\u001b[0m \u001b[0mConnectionError\u001b[0m\u001b[1;33m:\u001b[0m\u001b[1;33m\u001b[0m\u001b[0m\n\u001b[0;32m   1333\u001b[0m                 \u001b[0mself\u001b[0m\u001b[1;33m.\u001b[0m\u001b[0mclose\u001b[0m\u001b[1;33m(\u001b[0m\u001b[1;33m)\u001b[0m\u001b[1;33m\u001b[0m\u001b[0m\n",
      "\u001b[1;32mC:\\ProgramData\\Anaconda3\\lib\\http\\client.py\u001b[0m in \u001b[0;36mbegin\u001b[1;34m(self)\u001b[0m\n\u001b[0;32m    295\u001b[0m         \u001b[1;31m# read until we get a non-100 response\u001b[0m\u001b[1;33m\u001b[0m\u001b[1;33m\u001b[0m\u001b[0m\n\u001b[0;32m    296\u001b[0m         \u001b[1;32mwhile\u001b[0m \u001b[1;32mTrue\u001b[0m\u001b[1;33m:\u001b[0m\u001b[1;33m\u001b[0m\u001b[0m\n\u001b[1;32m--> 297\u001b[1;33m             \u001b[0mversion\u001b[0m\u001b[1;33m,\u001b[0m \u001b[0mstatus\u001b[0m\u001b[1;33m,\u001b[0m \u001b[0mreason\u001b[0m \u001b[1;33m=\u001b[0m \u001b[0mself\u001b[0m\u001b[1;33m.\u001b[0m\u001b[0m_read_status\u001b[0m\u001b[1;33m(\u001b[0m\u001b[1;33m)\u001b[0m\u001b[1;33m\u001b[0m\u001b[0m\n\u001b[0m\u001b[0;32m    298\u001b[0m             \u001b[1;32mif\u001b[0m \u001b[0mstatus\u001b[0m \u001b[1;33m!=\u001b[0m \u001b[0mCONTINUE\u001b[0m\u001b[1;33m:\u001b[0m\u001b[1;33m\u001b[0m\u001b[0m\n\u001b[0;32m    299\u001b[0m                 \u001b[1;32mbreak\u001b[0m\u001b[1;33m\u001b[0m\u001b[0m\n",
      "\u001b[1;32mC:\\ProgramData\\Anaconda3\\lib\\http\\client.py\u001b[0m in \u001b[0;36m_read_status\u001b[1;34m(self)\u001b[0m\n\u001b[0;32m    256\u001b[0m \u001b[1;33m\u001b[0m\u001b[0m\n\u001b[0;32m    257\u001b[0m     \u001b[1;32mdef\u001b[0m \u001b[0m_read_status\u001b[0m\u001b[1;33m(\u001b[0m\u001b[0mself\u001b[0m\u001b[1;33m)\u001b[0m\u001b[1;33m:\u001b[0m\u001b[1;33m\u001b[0m\u001b[0m\n\u001b[1;32m--> 258\u001b[1;33m         \u001b[0mline\u001b[0m \u001b[1;33m=\u001b[0m \u001b[0mstr\u001b[0m\u001b[1;33m(\u001b[0m\u001b[0mself\u001b[0m\u001b[1;33m.\u001b[0m\u001b[0mfp\u001b[0m\u001b[1;33m.\u001b[0m\u001b[0mreadline\u001b[0m\u001b[1;33m(\u001b[0m\u001b[0m_MAXLINE\u001b[0m \u001b[1;33m+\u001b[0m \u001b[1;36m1\u001b[0m\u001b[1;33m)\u001b[0m\u001b[1;33m,\u001b[0m \u001b[1;34m\"iso-8859-1\"\u001b[0m\u001b[1;33m)\u001b[0m\u001b[1;33m\u001b[0m\u001b[0m\n\u001b[0m\u001b[0;32m    259\u001b[0m         \u001b[1;32mif\u001b[0m \u001b[0mlen\u001b[0m\u001b[1;33m(\u001b[0m\u001b[0mline\u001b[0m\u001b[1;33m)\u001b[0m \u001b[1;33m>\u001b[0m \u001b[0m_MAXLINE\u001b[0m\u001b[1;33m:\u001b[0m\u001b[1;33m\u001b[0m\u001b[0m\n\u001b[0;32m    260\u001b[0m             \u001b[1;32mraise\u001b[0m \u001b[0mLineTooLong\u001b[0m\u001b[1;33m(\u001b[0m\u001b[1;34m\"status line\"\u001b[0m\u001b[1;33m)\u001b[0m\u001b[1;33m\u001b[0m\u001b[0m\n",
      "\u001b[1;32mC:\\ProgramData\\Anaconda3\\lib\\socket.py\u001b[0m in \u001b[0;36mreadinto\u001b[1;34m(self, b)\u001b[0m\n\u001b[0;32m    584\u001b[0m         \u001b[1;32mwhile\u001b[0m \u001b[1;32mTrue\u001b[0m\u001b[1;33m:\u001b[0m\u001b[1;33m\u001b[0m\u001b[0m\n\u001b[0;32m    585\u001b[0m             \u001b[1;32mtry\u001b[0m\u001b[1;33m:\u001b[0m\u001b[1;33m\u001b[0m\u001b[0m\n\u001b[1;32m--> 586\u001b[1;33m                 \u001b[1;32mreturn\u001b[0m \u001b[0mself\u001b[0m\u001b[1;33m.\u001b[0m\u001b[0m_sock\u001b[0m\u001b[1;33m.\u001b[0m\u001b[0mrecv_into\u001b[0m\u001b[1;33m(\u001b[0m\u001b[0mb\u001b[0m\u001b[1;33m)\u001b[0m\u001b[1;33m\u001b[0m\u001b[0m\n\u001b[0m\u001b[0;32m    587\u001b[0m             \u001b[1;32mexcept\u001b[0m \u001b[0mtimeout\u001b[0m\u001b[1;33m:\u001b[0m\u001b[1;33m\u001b[0m\u001b[0m\n\u001b[0;32m    588\u001b[0m                 \u001b[0mself\u001b[0m\u001b[1;33m.\u001b[0m\u001b[0m_timeout_occurred\u001b[0m \u001b[1;33m=\u001b[0m \u001b[1;32mTrue\u001b[0m\u001b[1;33m\u001b[0m\u001b[0m\n",
      "\u001b[1;31mKeyboardInterrupt\u001b[0m: "
     ]
    }
   ],
   "source": [
    "import language_check\n",
    "\n",
    "error_count = []\n",
    "\n",
    "tool = language_check.LanguageTool('en-US')\n",
    "\n",
    "def errorCount(essay) :\n",
    "    checker = []\n",
    "    matches = tool.check(essay)\n",
    "    for i in matches :\n",
    "        checker.append(i.fromx)\n",
    "    \n",
    "    return(len(set(checker)))\n",
    "        \n",
    "for i in essay :\n",
    "    error_count.append(errorCount(i))\n",
    "\n",
    "import pickle \n",
    "\n",
    "with open('languagecheck.pkl', 'wb') as file:  \n",
    "    pickle.dump(tool, file)  \n",
    "\n",
    "print(\"Done: error_count\")"
   ]
  },
  {
   "cell_type": "markdown",
   "metadata": {},
   "source": [
    "### Convert string to int for score"
   ]
  },
  {
   "cell_type": "code",
   "execution_count": null,
   "metadata": {
    "scrolled": true
   },
   "outputs": [],
   "source": [
    "human_score = [int(i) for i in human_score]\n",
    "\n",
    "\n",
    "for i in range(len(human_score)) :\n",
    "    if essay_set[i] == \"1\" :\n",
    "        if human_score[i] <=5 :\n",
    "            human_score[i] = 1\n",
    "        elif human_score[i] >= 6 and human_score[i] <= 9 :\n",
    "            human_score[i] = 2\n",
    "        else :\n",
    "            human_score[i] = 3\n",
    "    \n",
    "    elif essay_set[i] == \"2\" :\n",
    "        if human_score[i] <=2 :\n",
    "            human_score[i] = 1\n",
    "        elif human_score[i] >= 3 and human_score[i] <= 4 :\n",
    "            human_score[i] = 2\n",
    "        else :\n",
    "            human_score[i] = 3\n",
    "\n",
    "    elif essay_set[i] == \"3\" :\n",
    "        if human_score[i] <=1 :\n",
    "            human_score[i] = 1\n",
    "        \n",
    "    elif essay_set[i] == \"4\" :\n",
    "        if human_score[i] <=1 :\n",
    "            human_score[i] = 1\n",
    "\n",
    "\n",
    "    elif essay_set[i] == \"5\" :\n",
    "        if human_score[i] <=1 :\n",
    "            human_score[i] = 1\n",
    "#         elif human_score[i] == 2 :\n",
    "#             human_score[i] = 2\n",
    "        elif  human_score[i] > 2:\n",
    "            human_score[i] = 3\n",
    "        \n",
    "    elif essay_set[i] == \"6\" :\n",
    "        if human_score[i] <=1 :\n",
    "            human_score[i] = 1\n",
    "#         elif human_score[i] == 2 :\n",
    "#             human_score[i] = 2\n",
    "        elif  human_score[i] > 2:\n",
    "            human_score[i] = 3\n",
    "        \n",
    "    elif essay_set[i] == \"7\" :\n",
    "        if human_score[i] <= 10 :\n",
    "            human_score[i] = 1\n",
    "        elif human_score[i] >= 11 and human_score[i] <=20 :\n",
    "            human_score[i] = 2\n",
    "        else :\n",
    "            human_score[i] = 3\n",
    "    \n",
    "    elif essay_set[i] == \"8\" :\n",
    "        if human_score[i] <= 20 :\n",
    "            human_score[i] = 1\n",
    "        elif human_score[i] >= 21 and human_score[i] <=40 :\n",
    "            human_score[i] = 2\n",
    "        else :\n",
    "            human_score[i] = 3"
   ]
  },
  {
   "cell_type": "markdown",
   "metadata": {},
   "source": [
    "## Write to csv"
   ]
  },
  {
   "cell_type": "code",
   "execution_count": null,
   "metadata": {},
   "outputs": [],
   "source": [
    "import csv\n",
    "csv_header = [\"essay_id\", \"essay_set\", \"essay\", \"word_count\", \"sent_count\", \"ave_word_length\", \"long_word_count\"\n",
    "              , \"ave_sent_length\", \"long_sent_count\",  \"unique_word_count\", \"noun_count\", \"propernoun_count\", \"adj_count\"\n",
    "              , \"verb_count\", \"adverb_count\", \"tense_ratio\", \"error_count\", \"human_score\"]\n",
    "rows=zip(essay_id, essay_set, essay, word_count, sent_count, average_word_length, longword_count\n",
    "              , average_sent_length, longsent_count,  unique_word_count, noun_count, propernoun_count, adj_count\n",
    "              , verb_count, adverb_count, tense_ratio, error_count, human_score)\n",
    "\n",
    "with open('essaywithfeature.csv', \"w\", newline='') as csvwriter:\n",
    "    writer = csv.writer(csvwriter)\n",
    "    writer.writerow(csv_header)\n",
    "    for row in rows:\n",
    "        writer.writerow(row)\n",
    "\n",
    "print(\"Done: write to csv\")"
   ]
  }
 ],
 "metadata": {
  "kernelspec": {
   "display_name": "Python 3",
   "language": "python",
   "name": "python3"
  },
  "language_info": {
   "codemirror_mode": {
    "name": "ipython",
    "version": 3
   },
   "file_extension": ".py",
   "mimetype": "text/x-python",
   "name": "python",
   "nbconvert_exporter": "python",
   "pygments_lexer": "ipython3",
   "version": "3.7.1"
  }
 },
 "nbformat": 4,
 "nbformat_minor": 2
}
