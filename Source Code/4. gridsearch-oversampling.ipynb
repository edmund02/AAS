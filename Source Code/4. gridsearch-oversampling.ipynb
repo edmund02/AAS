{
 "cells": [
  {
   "cell_type": "code",
   "execution_count": 9,
   "metadata": {},
   "outputs": [
    {
     "name": "stderr",
     "output_type": "stream",
     "text": [
      "C:\\Users\\Edmund\\Anaconda3\\lib\\site-packages\\sklearn\\model_selection\\_split.py:624: FutureWarning: You should specify a value for 'n_splits' instead of relying on the default value. The default value will change from 3 to 5 in version 0.22.\n",
      "  warnings.warn(NSPLIT_WARNING, FutureWarning)\n",
      "[Parallel(n_jobs=-1)]: Using backend LokyBackend with 4 concurrent workers.\n"
     ]
    },
    {
     "name": "stdout",
     "output_type": "stream",
     "text": [
      "Fitting 3 folds for each of 3 candidates, totalling 9 fits\n"
     ]
    },
    {
     "name": "stderr",
     "output_type": "stream",
     "text": [
      "[Parallel(n_jobs=-1)]: Done   4 out of   9 | elapsed:    3.3s remaining:    4.1s\n",
      "[Parallel(n_jobs=-1)]: Done   6 out of   9 | elapsed:    4.7s remaining:    2.3s\n",
      "[Parallel(n_jobs=-1)]: Done   9 out of   9 | elapsed:   11.0s finished\n"
     ]
    },
    {
     "name": "stdout",
     "output_type": "stream",
     "text": [
      "{'clf__C': 10, 'clf__kernel': 'linear'} 0.7531418312387792\n"
     ]
    }
   ],
   "source": [
    "from imblearn.over_sampling import SMOTE, RandomOverSampler  # or: import RandomOverSampler\n",
    "from imblearn.pipeline import Pipeline as imbPipeline\n",
    "from sklearn.preprocessing import StandardScaler\n",
    "from sklearn.svm import SVC\n",
    "from sklearn.model_selection import (GridSearchCV,train_test_split,StratifiedKFold)\n",
    "from imblearn.over_sampling import RandomOverSampler\n",
    "\n",
    "import numpy as np\n",
    "import pandas as pd\n",
    "\n",
    "dataset = pd.read_csv('essaywithfeature (2).csv', encoding='cp1252')\n",
    "X = dataset.iloc[:, 3:17].values\n",
    "y = dataset.iloc[:, 17].values\n",
    "\n",
    "X_train, X_test, y_train, y_test = train_test_split(X, y, test_size=0.25, random_state=1, stratify=y)\n",
    "\n",
    "from imblearn.over_sampling import RandomOverSampler\n",
    "ros = RandomOverSampler(random_state=1)\n",
    "X_train,y_train = ros.fit_resample(X_train,y_train)\n",
    "\n",
    "pipe = imbPipeline([\n",
    "    ('oversample', RandomOverSampler()),\n",
    "    ('sc', StandardScaler()),\n",
    "    ('clf', SVC(random_state=1, decision_function_shape='ovo'))\n",
    "    ])\n",
    "\n",
    "skf = StratifiedKFold()\n",
    "param_grid = {'clf__C': [0.1, 1, 10], 'clf__kernel': ['linear'] }\n",
    "# param_grid = {'clf__C': [0.1, 1, 10], 'clf__gamma': [0.1, 1, 10], 'clf__kernel': ['rbf'] }\n",
    "# param_grid = {'clf__C': [0.1, 1, 10], 'clf__gamma': [0.1, 1, 10], 'clf__degree': [2,3,4,5], 'clf__kernel': ['poly'] }\n",
    "# param_grid = {'clf__C': [0.1, 1, 10], 'clf__gamma': [0.1, 1, 10], 'clf__kernel': ['sigmoid'] }\n",
    "grid = GridSearchCV(pipe, param_grid, return_train_score=False,\n",
    "                    n_jobs=-1, scoring='accuracy', cv=skf, verbose=8)\n",
    "# grid.fit(X, y)\n",
    "grid.fit(X_train, y_train)\n",
    "grid.score(X_test, y_test)\n",
    "\n",
    "print(grid.best_params_, grid.best_score_)"
   ]
  },
  {
   "cell_type": "code",
   "execution_count": 2,
   "metadata": {},
   "outputs": [
    {
     "name": "stderr",
     "output_type": "stream",
     "text": [
      "C:\\Users\\Edmund\\Anaconda3\\lib\\site-packages\\sklearn\\model_selection\\_split.py:624: FutureWarning: You should specify a value for 'n_splits' instead of relying on the default value. The default value will change from 3 to 5 in version 0.22.\n",
      "  warnings.warn(NSPLIT_WARNING, FutureWarning)\n",
      "[Parallel(n_jobs=-1)]: Using backend LokyBackend with 4 concurrent workers.\n"
     ]
    },
    {
     "name": "stdout",
     "output_type": "stream",
     "text": [
      "Fitting 3 folds for each of 9 candidates, totalling 27 fits\n"
     ]
    },
    {
     "name": "stderr",
     "output_type": "stream",
     "text": [
      "[Parallel(n_jobs=-1)]: Done  10 tasks      | elapsed:   13.6s\n",
      "[Parallel(n_jobs=-1)]: Done  24 out of  27 | elapsed:   27.9s remaining:    3.4s\n",
      "[Parallel(n_jobs=-1)]: Done  27 out of  27 | elapsed:   31.9s finished\n"
     ]
    },
    {
     "name": "stdout",
     "output_type": "stream",
     "text": [
      "{'clf__C': 10, 'clf__gamma': 1, 'clf__kernel': 'rbf'} 0.7671357240127099\n"
     ]
    }
   ],
   "source": [
    "from imblearn.over_sampling import SMOTE, RandomOverSampler  # or: import RandomOverSampler\n",
    "from imblearn.pipeline import Pipeline as imbPipeline\n",
    "from sklearn.preprocessing import StandardScaler\n",
    "from sklearn.svm import SVC\n",
    "from sklearn.model_selection import (GridSearchCV,train_test_split,StratifiedKFold)\n",
    "from imblearn.over_sampling import RandomOverSampler\n",
    "\n",
    "import numpy as np\n",
    "import pandas as pd\n",
    "\n",
    "dataset = pd.read_csv('essaywithfeature (2).csv', encoding='cp1252')\n",
    "X = dataset.iloc[:, 3:17].values\n",
    "y = dataset.iloc[:, 17].values\n",
    "\n",
    "# from imblearn.over_sampling import RandomOverSampler\n",
    "# ros = RandomOverSampler(random_state=1)\n",
    "# X,y = ros.fit_resample(X,y)\n",
    "\n",
    "X_train, X_test, y_train, y_test = train_test_split(X, y, test_size=0.25, random_state=1, stratify=y)\n",
    "\n",
    "# from imblearn.over_sampling import RandomOverSampler\n",
    "# ros = RandomOverSampler(random_state=1)\n",
    "# X_train,y_train = ros.fit_resample(X_train,y_train)\n",
    "\n",
    "from sklearn.preprocessing import StandardScaler\n",
    "sc = StandardScaler()\n",
    "X_train = sc.fit_transform(X_train)\n",
    "X_test = sc.transform(X_test)\n",
    "\n",
    "\n",
    "pipe = imbPipeline([\n",
    "    ('oversample', RandomOverSampler()),\n",
    "    ('sc', StandardScaler()),\n",
    "    ('clf', SVC(random_state=1, decision_function_shape='ovo'))\n",
    "    ])\n",
    "\n",
    "skf = StratifiedKFold()\n",
    "# param_grid = {'clf__C': [0.1, 1, 10], 'clf__kernel': ['linear'] }\n",
    "param_grid = {'clf__C': [0.1, 1, 10], 'clf__gamma': [0.1, 1, 10], 'clf__kernel': ['rbf'] }\n",
    "# param_grid = {'clf__C': [0.1, 1, 10], 'clf__gamma': [0.1, 1, 10], 'clf__degree': [2,3,4,5], 'clf__kernel': ['poly'] }\n",
    "# param_grid = {'clf__C': [0.1, 1, 10], 'clf__gamma': [0.1, 1, 10], 'clf__kernel': ['sigmoid'] }\n",
    "grid = GridSearchCV(pipe, param_grid, return_train_score=False,\n",
    "                    n_jobs=-1, scoring='accuracy', cv=skf, verbose=8)\n",
    "# grid.fit(X, y)\n",
    "grid.fit(X_train, y_train)\n",
    "grid.score(X_test, y_test)\n",
    "\n",
    "print(grid.best_params_, grid.best_score_)"
   ]
  },
  {
   "cell_type": "code",
   "execution_count": 11,
   "metadata": {},
   "outputs": [
    {
     "name": "stderr",
     "output_type": "stream",
     "text": [
      "C:\\Users\\Edmund\\Anaconda3\\lib\\site-packages\\sklearn\\model_selection\\_split.py:624: FutureWarning: You should specify a value for 'n_splits' instead of relying on the default value. The default value will change from 3 to 5 in version 0.22.\n",
      "  warnings.warn(NSPLIT_WARNING, FutureWarning)\n",
      "[Parallel(n_jobs=-1)]: Using backend LokyBackend with 4 concurrent workers.\n"
     ]
    },
    {
     "name": "stdout",
     "output_type": "stream",
     "text": [
      "Fitting 3 folds for each of 9 candidates, totalling 27 fits\n"
     ]
    },
    {
     "name": "stderr",
     "output_type": "stream",
     "text": [
      "[Parallel(n_jobs=-1)]: Done  10 tasks      | elapsed:   10.4s\n",
      "[Parallel(n_jobs=-1)]: Done  24 out of  27 | elapsed:   22.4s remaining:    2.7s\n",
      "[Parallel(n_jobs=-1)]: Done  27 out of  27 | elapsed:   24.5s finished\n"
     ]
    },
    {
     "name": "stdout",
     "output_type": "stream",
     "text": [
      "{'clf__C': 10, 'clf__gamma': 0.1, 'clf__kernel': 'sigmoid'} 0.5576501097147417\n"
     ]
    }
   ],
   "source": [
    "from imblearn.over_sampling import SMOTE  # or: import RandomOverSampler\n",
    "from imblearn.pipeline import Pipeline as imbPipeline\n",
    "from sklearn.preprocessing import StandardScaler\n",
    "from sklearn.svm import SVC\n",
    "from sklearn.model_selection import (GridSearchCV,train_test_split,StratifiedKFold)\n",
    "from imblearn.over_sampling import RandomOverSampler\n",
    "\n",
    "import numpy as np\n",
    "import pandas as pd\n",
    "\n",
    "dataset = pd.read_csv('essaywithfeature (2).csv', encoding='cp1252')\n",
    "X = dataset.iloc[:, 3:17].values\n",
    "y = dataset.iloc[:, 17].values\n",
    "\n",
    "X_train, X_test, y_train, y_test = train_test_split(X, y, test_size=0.25, random_state=1, stratify=y)\n",
    "\n",
    "from imblearn.over_sampling import RandomOverSampler\n",
    "ros = RandomOverSampler(random_state=1)\n",
    "X_train,y_train = ros.fit_resample(X_train,y_train)\n",
    "\n",
    "pipe = imbPipeline([\n",
    "    ('oversample', RandomOverSampler()),\n",
    "    ('sc', StandardScaler()),\n",
    "    ('clf', SVC(random_state=1, decision_function_shape='ovo'))\n",
    "    ])\n",
    "\n",
    "skf = StratifiedKFold()\n",
    "# param_grid = {'clf__C': [0.1, 1, 10], 'clf__kernel': ['linear'] }\n",
    "# param_grid = {'clf__C': [0.1, 1, 10], 'clf__gamma': [0.1, 1, 10], 'clf__kernel': ['rbf'] }\n",
    "# param_grid = {'clf__C': [0.1, 1, 10], 'clf__gamma': [0.1, 1, 10], 'clf__degree': [2,3,4,5], 'clf__kernel': ['poly'] }\n",
    "param_grid = {'clf__C': [0.1, 1, 10], 'clf__gamma': [0.1, 1, 10], 'clf__kernel': ['sigmoid'] }\n",
    "grid = GridSearchCV(pipe, param_grid, return_train_score=False,\n",
    "                    n_jobs=-1, scoring='accuracy', cv=skf, verbose=8)\n",
    "# grid.fit(X, y)\n",
    "grid.fit(X_train, y_train)\n",
    "grid.score(X_test, y_test)\n",
    "\n",
    "print(grid.best_params_, grid.best_score_)"
   ]
  },
  {
   "cell_type": "code",
   "execution_count": null,
   "metadata": {},
   "outputs": [
    {
     "name": "stderr",
     "output_type": "stream",
     "text": [
      "C:\\Users\\Edmund\\Anaconda3\\lib\\site-packages\\sklearn\\model_selection\\_split.py:624: FutureWarning: You should specify a value for 'n_splits' instead of relying on the default value. The default value will change from 3 to 5 in version 0.22.\n",
      "  warnings.warn(NSPLIT_WARNING, FutureWarning)\n",
      "[Parallel(n_jobs=3)]: Using backend LokyBackend with 3 concurrent workers.\n"
     ]
    },
    {
     "name": "stdout",
     "output_type": "stream",
     "text": [
      "Fitting 3 folds for each of 18 candidates, totalling 54 fits\n"
     ]
    }
   ],
   "source": [
    "from imblearn.over_sampling import SMOTE  # or: import RandomOverSampler\n",
    "from imblearn.pipeline import Pipeline as imbPipeline\n",
    "from sklearn.preprocessing import StandardScaler\n",
    "from sklearn.svm import SVC\n",
    "from sklearn.model_selection import (GridSearchCV,train_test_split,StratifiedKFold)\n",
    "from imblearn.over_sampling import RandomOverSampler\n",
    "\n",
    "import numpy as np\n",
    "import pandas as pd\n",
    "\n",
    "dataset = pd.read_csv('essaywithfeature (2).csv', encoding='cp1252')\n",
    "X = dataset.iloc[:, 3:17].values\n",
    "y = dataset.iloc[:, 17].values\n",
    "\n",
    "X_train, X_test, y_train, y_test = train_test_split(X, y, test_size=0.25, random_state=1, stratify=y)\n",
    "\n",
    "from imblearn.over_sampling import RandomOverSampler\n",
    "ros = RandomOverSampler(random_state=1)\n",
    "X_train,y_train = ros.fit_resample(X_train,y_train)\n",
    "\n",
    "pipe = imbPipeline([\n",
    "    ('oversample', RandomOverSampler()),\n",
    "    ('sc', StandardScaler()),\n",
    "    ('clf', SVC(random_state=1, decision_function_shape='ovo'))\n",
    "    ])\n",
    "\n",
    "skf = StratifiedKFold()\n",
    "# param_grid = {'clf__C': [0.1, 1, 10], 'clf__kernel': ['linear'] }\n",
    "# param_grid = {'clf__C': [0.1, 1, 10], 'clf__gamma': [0.1, 1, 10], 'clf__kernel': ['rbf'] }\n",
    "param_grid = {'clf__C': [0.1, 1, 10], 'clf__gamma': [0.1, 1, 10], 'clf__degree': [2,3], 'clf__kernel': ['poly'] }\n",
    "# param_grid = {'clf__C': [0.1, 1, 10], 'clf__gamma': [0.1, 1, 10], 'clf__kernel': ['sigmoid'] }\n",
    "grid = GridSearchCV(pipe, param_grid, return_train_score=False,\n",
    "                    n_jobs=3, scoring='accuracy', cv=skf, verbose=8)\n",
    "# grid.fit(X, y)\n",
    "grid.fit(X_train, y_train)\n",
    "grid.score(X_test, y_test)\n",
    "\n",
    "print(grid.best_params_, grid.best_score_)"
   ]
  }
 ],
 "metadata": {
  "kernelspec": {
   "display_name": "Python 3",
   "language": "python",
   "name": "python3"
  },
  "language_info": {
   "codemirror_mode": {
    "name": "ipython",
    "version": 3
   },
   "file_extension": ".py",
   "mimetype": "text/x-python",
   "name": "python",
   "nbconvert_exporter": "python",
   "pygments_lexer": "ipython3",
   "version": "3.6.5"
  }
 },
 "nbformat": 4,
 "nbformat_minor": 2
}
